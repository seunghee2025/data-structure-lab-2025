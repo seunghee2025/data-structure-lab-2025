{
  "nbformat": 4,
  "nbformat_minor": 0,
  "metadata": {
    "colab": {
      "provenance": [],
      "authorship_tag": "ABX9TyP8G54G+aHuVpNcK+3CnJvq",
      "include_colab_link": true
    },
    "kernelspec": {
      "name": "python3",
      "display_name": "Python 3"
    },
    "language_info": {
      "name": "python"
    }
  },
  "cells": [
    {
      "cell_type": "markdown",
      "metadata": {
        "id": "view-in-github",
        "colab_type": "text"
      },
      "source": [
        "<a href=\"https://colab.research.google.com/github/seunghee2025/data-structure-lab-2025/blob/master/Lec06_Queue.ipynb\" target=\"_parent\"><img src=\"https://colab.research.google.com/assets/colab-badge.svg\" alt=\"Open In Colab\"/></a>"
      ]
    },
    {
      "cell_type": "markdown",
      "source": [],
      "metadata": {
        "id": "Kx45DQt-DFuL"
      }
    },
    {
      "cell_type": "code",
      "source": [
        "def Queue\n",
        "  def __init__(self):\n",
        "    self.items = []\n",
        "\n",
        "  def is_empty(self):\n",
        "    return self.items == []\n",
        "\n",
        "  def enqueue(self, item):\n",
        "    self.items.insert(0,item)\n",
        "\n",
        "  def dequeue(self):\n",
        "    return self.items.pop()\n",
        "\n",
        "  def size(self):\n",
        "    return len(self.items)"
      ],
      "metadata": {
        "id": "5rUBqOobDIET"
      },
      "execution_count": null,
      "outputs": []
    },
    {
      "cell_type": "code",
      "execution_count": null,
      "metadata": {
        "id": "0FfH1uxuCikP"
      },
      "outputs": [],
      "source": [
        "palindrome Check"
      ]
    },
    {
      "cell_type": "code",
      "source": [
        "def is_palindrome(word)\n",
        "  q=Queue()\n",
        "  s=Stack()\n",
        "\n",
        "  for i in range(len(work)):\n",
        "    s.push(word[i])\n",
        "    q.enqueue(word[i])\n",
        "\n",
        "    while (not q.is_empty()) and s.pop() == q.dequeue()\n",
        "      pass\n",
        "\n",
        "    if q.is_empty():\n",
        "      return True\n",
        "    else:\n",
        "      return False"
      ],
      "metadata": {
        "id": "fG0jLyJ9C24r"
      },
      "execution_count": null,
      "outputs": []
    },
    {
      "cell_type": "code",
      "source": [
        "str = 'djWJrh'\n",
        "t = is_palindrome(str)\n",
        "print(str, \" is  Palindrome? \", t)"
      ],
      "metadata": {
        "id": "V_ei93FlEc-K"
      },
      "execution_count": null,
      "outputs": []
    },
    {
      "cell_type": "markdown",
      "source": [],
      "metadata": {
        "id": "FFjD0lW0Cz2M"
      }
    }
  ]
}