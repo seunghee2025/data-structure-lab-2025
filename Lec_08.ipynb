{
  "nbformat": 4,
  "nbformat_minor": 0,
  "metadata": {
    "colab": {
      "provenance": [],
      "authorship_tag": "ABX9TyMcTH4pnwdJKN24d1AmSqHO",
      "include_colab_link": true
    },
    "kernelspec": {
      "name": "python3",
      "display_name": "Python 3"
    },
    "language_info": {
      "name": "python"
    }
  },
  "cells": [
    {
      "cell_type": "markdown",
      "metadata": {
        "id": "view-in-github",
        "colab_type": "text"
      },
      "source": [
        "<a href=\"https://colab.research.google.com/github/seunghee2025/data-structure-lab-2025/blob/master/Lec_08.ipynb\" target=\"_parent\"><img src=\"https://colab.research.google.com/assets/colab-badge.svg\" alt=\"Open In Colab\"/></a>"
      ]
    },
    {
      "cell_type": "markdown",
      "source": [
        "buble sort"
      ],
      "metadata": {
        "id": "ZXBfpwJCCfye"
      }
    },
    {
      "cell_type": "code",
      "source": [
        "def buble_sort(a_list):\n",
        "  for pass_num in range(len(a_list)-1,0,-1):\n",
        "    for i in range(pass_num):\n",
        "      if a_list[i]>a_list[i+1]:\n",
        "        temp=a_lsit[i]\n",
        "        a_list[i]=a_list[i+1]\n",
        "        a_list[i+1]=temp"
      ],
      "metadata": {
        "id": "ebdnMtL3BbWv"
      },
      "execution_count": 1,
      "outputs": []
    },
    {
      "cell_type": "markdown",
      "source": [
        "insertion sort"
      ],
      "metadata": {
        "id": "oIkDtlb0DG0G"
      }
    },
    {
      "cell_type": "code",
      "source": [
        "def insertion_sort(a_list):\n",
        "  for index in range(1,len(a_list)):\n",
        "    current_value=a_list[index]\n",
        "    position=index\n",
        "\n",
        "    while position > 0 and a_list[position - 1] > current_value:\n",
        "      a_list[position] = a_list[position - 1]\n",
        "      position = position - 1\n",
        "\n",
        "    a_list[position] = current_value"
      ],
      "metadata": {
        "id": "eawk3n6dDKl1"
      },
      "execution_count": null,
      "outputs": []
    },
    {
      "cell_type": "markdown",
      "source": [
        "quick sort"
      ],
      "metadata": {
        "id": "L7Z48RiID2D1"
      }
    },
    {
      "cell_type": "code",
      "source": [
        "def quick_sort(a_list):\n",
        "  quick_sort_helper(a_list, 0, len(a_list)- 1)\n",
        "\n",
        "def quick_sort_helper(a_list, first, last):\n",
        "  if first < last:\n",
        "\n",
        "    split_point = partition(a_list, first, last)\n",
        "\n",
        "    quick_sort_helper(a_list, first, split_point - 1)\n",
        "    quick_sort_helper(a_list, split_point + 1, last)\n",
        "\n",
        "def partition(a_list, first, last):\n",
        "  pivot_value = a_list[first]\n",
        "  left_mark = first + 1\n",
        "  right_mark = last\n",
        "  done = False\n",
        "\n",
        "  while not done:\n",
        "    while left_mark <= right_mark and a_list[left_mark] <= pivot_value:\n",
        "      left_mark = left_mark +1\n",
        "\n",
        "    while a_list[right_mark] >= pivot_value and right_mark >= left_mark:\n",
        "      right_mark = right_mark - 1\n",
        "\n",
        "    if right_mark < left_mark:\n",
        "      done = True\n",
        "\n",
        "    else:\n",
        "      temp = a_list[left_mark]\n",
        "      a_list[left_mark] = a_list[right_mark]\n",
        "      a_list[right_mark] = temp\n",
        "\n",
        "  temp = a_list[first]\n",
        "  a_list[first] = a_list[right_mark]\n",
        "  a_list[right_mark] = temp\n",
        "\n",
        "  return right_mark"
      ],
      "metadata": {
        "id": "9udTla0-D8fO"
      },
      "execution_count": null,
      "outputs": []
    }
  ]
}