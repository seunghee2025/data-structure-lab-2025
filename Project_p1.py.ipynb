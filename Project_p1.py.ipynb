{
  "nbformat": 4,
  "nbformat_minor": 0,
  "metadata": {
    "colab": {
      "provenance": [],
      "authorship_tag": "ABX9TyMjVtV7dObqVeQvCu3aGASk",
      "include_colab_link": true
    },
    "kernelspec": {
      "name": "python3",
      "display_name": "Python 3"
    },
    "language_info": {
      "name": "python"
    }
  },
  "cells": [
    {
      "cell_type": "markdown",
      "metadata": {
        "id": "view-in-github",
        "colab_type": "text"
      },
      "source": [
        "<a href=\"https://colab.research.google.com/github/seunghee2025/data-structure-lab-2025/blob/master/Project_p1.py.ipynb\" target=\"_parent\"><img src=\"https://colab.research.google.com/assets/colab-badge.svg\" alt=\"Open In Colab\"/></a>"
      ]
    },
    {
      "cell_type": "code",
      "execution_count": null,
      "metadata": {
        "id": "e7lE1Y-oscIh"
      },
      "outputs": [],
      "source": [
        "input = [10, 40, 30, 60, 30]"
      ]
    },
    {
      "cell_type": "code",
      "source": [
        "def insertion_sort(arr):\n",
        "    for i in range(1, len(arr)):\n",
        "        key = arr[i]\n",
        "        j = i - 1\n",
        "        # key 값을 정렬된 부분과 비교하며 삽입 위치 찾기\n",
        "        while j >= 0 and arr[j] > key:\n",
        "            arr[j + 1] = arr[j]  # 오른쪽으로 밀기\n",
        "            j -= 1\n",
        "        arr[j + 1] = key\n",
        "    return arr"
      ],
      "metadata": {
        "id": "0RAmJDVws1yr"
      },
      "execution_count": null,
      "outputs": []
    },
    {
      "cell_type": "code",
      "source": [
        "def problem1(input):\n",
        "    # 평균 계산\n",
        "    mean = sum(input) // len(input)\n",
        "\n",
        "    # 삽입 정렬 수행\n",
        "    sorted_input = insertion_sort(input[:])  # 원본을 복사해서 정렬\n",
        "\n",
        "    # 중앙값 계산\n",
        "    median = sorted_input[len(sorted_input) // 2]\n",
        "\n",
        "    return [mean, median]"
      ],
      "metadata": {
        "id": "78iq_DSds0jI"
      },
      "execution_count": null,
      "outputs": []
    },
    {
      "cell_type": "code",
      "source": [
        "result = problem1(input)\n",
        "\n",
        "assert result == [34, 30]\n",
        "print(\"정답입니다.\")"
      ],
      "metadata": {
        "id": "Khcp6bYZs4QM"
      },
      "execution_count": null,
      "outputs": []
    }
  ]
}