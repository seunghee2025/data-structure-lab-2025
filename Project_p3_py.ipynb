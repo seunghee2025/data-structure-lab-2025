{
  "nbformat": 4,
  "nbformat_minor": 0,
  "metadata": {
    "colab": {
      "provenance": [],
      "authorship_tag": "ABX9TyNOV961nltBbUretNBmy9Ei",
      "include_colab_link": true
    },
    "kernelspec": {
      "name": "python3",
      "display_name": "Python 3"
    },
    "language_info": {
      "name": "python"
    }
  },
  "cells": [
    {
      "cell_type": "markdown",
      "metadata": {
        "id": "view-in-github",
        "colab_type": "text"
      },
      "source": [
        "<a href=\"https://colab.research.google.com/github/seunghee2025/data-structure-lab-2025/blob/master/Project_p3_py.ipynb\" target=\"_parent\"><img src=\"https://colab.research.google.com/assets/colab-badge.svg\" alt=\"Open In Colab\"/></a>"
      ]
    },
    {
      "cell_type": "code",
      "execution_count": null,
      "metadata": {
        "id": "1I82Xr1RtttM"
      },
      "outputs": [],
      "source": [
        "map_data = [[4, 3, 2, 1],\n",
        "            [0, 0, 0, 0],\n",
        "            [0, 0, 9, 0],\n",
        "            [1, 2, 3, 4]]\n",
        "N = 4\n",
        "\n",
        "from collections import deque"
      ]
    },
    {
      "cell_type": "code",
      "source": [
        "def problem3(map_data):\n",
        "    bear_size = 2\n",
        "    honeycomb_count = 0\n",
        "    time = 0\n",
        "    bear_x, bear_y = 0, 0\n",
        "\n",
        "    forest = [row[:] for row in map_data]\n",
        "\n",
        "    for i in range(N):\n",
        "        for j in range(N):\n",
        "            if forest[i][j] == 9:\n",
        "                bear_x, bear_y = i, j\n",
        "                forest[i][j] = 0\n",
        "\n",
        "    dx = [-1, 0, 0, 1]\n",
        "    dy = [0, -1, 1, 0]"
      ],
      "metadata": {
        "id": "lF4Z-rsVtwAB"
      },
      "execution_count": null,
      "outputs": []
    },
    {
      "cell_type": "code",
      "source": [
        " def bfs(x, y, size):\n",
        "        visited = [[-1] * N for _ in range(N)]\n",
        "        q = deque()\n",
        "        q.append((x, y))\n",
        "        visited[x][y] = 0\n",
        "        edible = []\n",
        "\n",
        "        while q:\n",
        "            cx, cy = q.popleft()\n",
        "            for d in range(4):\n",
        "                nx, ny = cx + dx[d], cy + dy[d]\n",
        "                if 0 <= nx < N and 0 <= ny < N:\n",
        "                    if visited[nx][ny] == -1 and forest[nx][ny] <= size:\n",
        "                        visited[nx][ny] = visited[cx][cy] + 1\n",
        "                        q.append((nx, ny))\n",
        "                        if 0 < forest[nx][ny] < size:\n",
        "                            edible.append((visited[nx][ny], nx, ny))\n",
        "\n",
        "        if not edible:\n",
        "            return None\n",
        "        edible.sort()\n",
        "        return edible[0]\n",
        "\n",
        "    while True:\n",
        "        target = bfs(bear_x, bear_y, bear_size)\n",
        "        if target is None:\n",
        "            break\n",
        "        dist, tx, ty = target\n",
        "        time += dist\n",
        "        honeycomb_count += 1\n",
        "        forest[tx][ty] = 0\n",
        "        bear_x, bear_y = tx, ty\n",
        "        if honeycomb_count == bear_size:\n",
        "            bear_size += 1\n",
        "            honeycomb_count = 0\n",
        "\n",
        "    return time"
      ],
      "metadata": {
        "id": "yGv1cgiDtv8m"
      },
      "execution_count": null,
      "outputs": []
    },
    {
      "cell_type": "code",
      "source": [
        "result = problem3(map_data)\n",
        "\n",
        "assert result == 14\n",
        "print(\"정답입니다.\")"
      ],
      "metadata": {
        "id": "lPDgM5Lltv5q"
      },
      "execution_count": null,
      "outputs": []
    }
  ]
}