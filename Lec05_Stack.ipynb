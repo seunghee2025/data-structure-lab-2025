{
  "nbformat": 4,
  "nbformat_minor": 0,
  "metadata": {
    "colab": {
      "provenance": [],
      "authorship_tag": "ABX9TyN9WMPnBC2KE0FpizquNW2c",
      "include_colab_link": true
    },
    "kernelspec": {
      "name": "python3",
      "display_name": "Python 3"
    },
    "language_info": {
      "name": "python"
    }
  },
  "cells": [
    {
      "cell_type": "markdown",
      "metadata": {
        "id": "view-in-github",
        "colab_type": "text"
      },
      "source": [
        "<a href=\"https://colab.research.google.com/github/seunghee2025/data-structure-lab-2025/blob/master/Lec05_Stack.ipynb\" target=\"_parent\"><img src=\"https://colab.research.google.com/assets/colab-badge.svg\" alt=\"Open In Colab\"/></a>"
      ]
    },
    {
      "cell_type": "markdown",
      "source": [
        "1.stack class"
      ],
      "metadata": {
        "id": "ZeP4cKln3O4d"
      }
    },
    {
      "cell_type": "code",
      "source": [
        "class Stack:\n",
        "    def __init__(self):\n",
        "        self.items=[]\n",
        "\n",
        "    def is_empty(self):\n",
        "        return self.items ==[]\n",
        "\n",
        "    def push(self,item):\n",
        "        self.items.insert(0, item)\n",
        "\n",
        "    def pop(self):\n",
        "        return self.items.pop(0)\n",
        "\n",
        "    def peek(self):\n",
        "        return self.items[0]\n",
        "\n",
        "    def size(self):\n",
        "        return len(self.items)\n",
        "\n",
        "    def pop_all(self):\n",
        "        self.items.clear()"
      ],
      "metadata": {
        "id": "Bo5oXgMB1Xpa"
      },
      "execution_count": 10,
      "outputs": []
    },
    {
      "cell_type": "code",
      "source": [
        "def par_checker(symbol_string):\n",
        "  s = Stack()\n",
        "  balanced = True\n",
        "  index = 0\n",
        "\n",
        "  while index < len(symbol_string) and balanced:\n",
        "    symbol = symbol_string[index]\n",
        "    if symbol == \"(\":\n",
        "      s.push(symbol)\n",
        "    else:\n",
        "      if s.is_empty():\n",
        "        balanced = False\n",
        "      else: s.pop()\n",
        "\n",
        "    index = index + 1\n",
        "\n",
        "  if balanced and s.is_empty():\n",
        "    return True\n",
        "  else:\n",
        "    return False"
      ],
      "metadata": {
        "id": "FCS_4MsO149k"
      },
      "execution_count": 12,
      "outputs": []
    }
  ]
}