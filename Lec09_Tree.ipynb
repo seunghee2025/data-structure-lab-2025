{
  "nbformat": 4,
  "nbformat_minor": 0,
  "metadata": {
    "colab": {
      "provenance": [],
      "authorship_tag": "ABX9TyPdBNonNqsunOOWQk4fnAZ+",
      "include_colab_link": true
    },
    "kernelspec": {
      "name": "python3",
      "display_name": "Python 3"
    },
    "language_info": {
      "name": "python"
    }
  },
  "cells": [
    {
      "cell_type": "markdown",
      "metadata": {
        "id": "view-in-github",
        "colab_type": "text"
      },
      "source": [
        "<a href=\"https://colab.research.google.com/github/seunghee2025/data-structure-lab-2025/blob/master/Lec09_Tree.ipynb\" target=\"_parent\"><img src=\"https://colab.research.google.com/assets/colab-badge.svg\" alt=\"Open In Colab\"/></a>"
      ]
    },
    {
      "cell_type": "markdown",
      "source": [
        "Binary heap"
      ],
      "metadata": {
        "id": "i-YVC5UnRg5l"
      }
    },
    {
      "cell_type": "code",
      "execution_count": null,
      "metadata": {
        "id": "97jf7iJaQt5T"
      },
      "outputs": [],
      "source": [
        "class BinHeap:\n",
        "  def __init__(self):\n",
        "    self.heap_list = [0]\n",
        "    self.current_size = 0\n",
        "\n",
        "  def perc_up(self, i):\n",
        "    while i // 2 > 0 :\n",
        "      if self.heap_list[i] < self.heap_list[i // 2]:\n",
        "        tmp = self.heap_list[i // 2]\n",
        "        self.heap_list[i // 2] = self.heap_list[i]\n",
        "        self.heap_list[i] = tmp\n",
        "      i = i // 2\n",
        "\n",
        "  def insert(self, k):\n",
        "    self.heap_list.append(k)\n",
        "    self.current_size = self.current_size + 1\n",
        "    self.perc_up(self.current_size)\n",
        "\n",
        "  def perc_down(self, i):\n",
        "    while (i * 2) <= self.current_size:\n",
        "      mc = self.min_child(i)\n",
        "      if self.heap_list[i] > self.heap_list[mc]:\n",
        "        tmp = self.heap_list[i]\n",
        "        self.heap_list[i] = self.heap_list[mc]\n",
        "        self.heap_list[mc] = tmp\n",
        "      i = mc\n",
        "\n",
        "  def min_child(self, i):\n",
        "    if i * 2 + 1 > self.current_size:\n",
        "      return i * 2\n",
        "    else:\n",
        "      if self.heap_list[i*2] < self.heap_list[i*2+1]:\n",
        "        return i*2\n",
        "    else:\n",
        "        return i*2+1\n",
        "\n",
        "  def del_min(self):\n",
        "    ret_val = self.heap_list[1]\n",
        "    self.heap_list[1] = self.heap_list[self.current_size]\n",
        "    self.current_size = self.current_size - 1\n",
        "    self.heap_list.pop()\n",
        "    self.perc_down(1)\n",
        "    return ret_val\n",
        "\n",
        "  def build_heap(self, alist):\n",
        "    i = len(a_list) // 2\n",
        "    self.current_size = len(alist)\n",
        "    self.heap_list = [0] + alist[:]\n",
        "\n",
        "    while i > 0:"
      ]
    },
    {
      "cell_type": "code",
      "source": [
        "import random\n",
        "lst = heapsort(random.random() for _ in range(10))"
      ],
      "metadata": {
        "id": "OP2t5Rd8TNna"
      },
      "execution_count": null,
      "outputs": []
    },
    {
      "cell_type": "code",
      "source": [
        "lst"
      ],
      "metadata": {
        "id": "Ge6em3ZZTY6a"
      },
      "execution_count": null,
      "outputs": []
    },
    {
      "cell_type": "code",
      "source": [
        "%matplotlib inline\n",
        "import matplotlib.pyplot as plt\n",
        "import seaborn as sbn\n",
        "import timeit\n",
        "import numpy as np"
      ],
      "metadata": {
        "id": "cfM0nMqYTiGT"
      },
      "execution_count": null,
      "outputs": []
    },
    {
      "cell_type": "code",
      "source": [
        "heap_sort_times=[]\n",
        "for size in range (100,3000,100)\n",
        "  a_list = list(range(size))\n",
        "  heap_sprt_times.append(timeit.timeit(stmt='heapsort(a_list)',\n",
        "                                       setup='random.shuffle(a_list)',\n",
        "                                       globals=globals(),\n",
        "                                       number=1))"
      ],
      "metadata": {
        "id": "TC_9kBn1TtJz"
      },
      "execution_count": null,
      "outputs": []
    },
    {
      "cell_type": "code",
      "source": [
        "pt.plot(list(range(100,3000,100)), heap_sort_times, 'ro')\n",
        "ns=np.linspace(100,3000,100, dtype=np.int_)\n",
        "plt.plot(ns,ns*np, log2(ns)*0.01/10000, 'b') #O(nlogn) plot\n",
        "plt.show()"
      ],
      "metadata": {
        "id": "1k_7411VUO5T"
      },
      "execution_count": null,
      "outputs": []
    }
  ]
}