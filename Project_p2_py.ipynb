{
  "nbformat": 4,
  "nbformat_minor": 0,
  "metadata": {
    "colab": {
      "provenance": [],
      "authorship_tag": "ABX9TyN2dBpgV8Ht8x59Dh6iUrsB",
      "include_colab_link": true
    },
    "kernelspec": {
      "name": "python3",
      "display_name": "Python 3"
    },
    "language_info": {
      "name": "python"
    }
  },
  "cells": [
    {
      "cell_type": "markdown",
      "metadata": {
        "id": "view-in-github",
        "colab_type": "text"
      },
      "source": [
        "<a href=\"https://colab.research.google.com/github/seunghee2025/data-structure-lab-2025/blob/master/Project_p2_py.ipynb\" target=\"_parent\"><img src=\"https://colab.research.google.com/assets/colab-badge.svg\" alt=\"Open In Colab\"/></a>"
      ]
    },
    {
      "cell_type": "code",
      "execution_count": null,
      "metadata": {
        "id": "hLhc_0r2tXXR"
      },
      "outputs": [],
      "source": [
        "input = \")))()\""
      ]
    },
    {
      "cell_type": "code",
      "source": [
        "def problem2(input):\n",
        "    stack = []\n",
        "    open_needed = 0  # 닫는 괄호에 대응할 여는 괄호가 부족한 경우\n",
        "\n",
        "    for char in input:\n",
        "        if char == '(':\n",
        "            stack.append(char)\n",
        "        else:  # char == ')'\n",
        "            if stac k:\n",
        "                stack.pop()  # 짝이 맞는 여는 괄호 제거\n",
        "            else:\n",
        "                open_needed += 1  # 여는 괄호가 부족함\n",
        "\n",
        "    # 스택에 남아있는 여는 괄호 수 + 부족한 여는 괄호 수\n",
        "    result = open_needed + len(stack)\n",
        "    return result"
      ],
      "metadata": {
        "id": "2VWGEP_OtfR-"
      },
      "execution_count": null,
      "outputs": []
    },
    {
      "cell_type": "code",
      "source": [
        "result = problem2(input)\n",
        "\n",
        "assert result == 3\n",
        "print(\"정답입니다.\")"
      ],
      "metadata": {
        "id": "4sJRt7X4tfLJ"
      },
      "execution_count": null,
      "outputs": []
    }
  ]
}